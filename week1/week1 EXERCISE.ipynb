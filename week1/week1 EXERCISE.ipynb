{
 "cells": [
  {
   "cell_type": "markdown",
   "id": "fe12c203-e6a6-452c-a655-afb8a03a4ff5",
   "metadata": {},
   "source": [
    "# End of week 1 exercise\n",
    "\n",
    "To demonstrate your familiarity with OpenAI API, and also Ollama, build a tool that takes a technical question,  \n",
    "and responds with an explanation. This is a tool that you will be able to use yourself during the course!"
   ]
  },
  {
   "cell_type": "code",
   "execution_count": 13,
   "id": "c1070317-3ed9-4659-abe3-828943230e03",
   "metadata": {},
   "outputs": [],
   "source": [
    "# imports\n",
    "import os\n",
    "import requests\n",
    "from dotenv import load_dotenv\n",
    "\n",
    "from IPython.display import Markdown, display, update_display\n",
    "\n",
    "from openai import OpenAI\n",
    "import ollama"
   ]
  },
  {
   "cell_type": "code",
   "execution_count": 2,
   "id": "4a456906-915a-4bfd-bb9d-57e505c5093f",
   "metadata": {},
   "outputs": [],
   "source": [
    "# constants\n",
    "MODEL_GPT = 'gpt-4o-mini'\n",
    "MODEL_LLAMA = 'llama3.2'"
   ]
  },
  {
   "cell_type": "code",
   "execution_count": 4,
   "id": "a8d7923c-5f28-4c30-8556-342d7c8497c1",
   "metadata": {},
   "outputs": [],
   "source": [
    "# set up environment\n",
    "load_dotenv(override=True)\n",
    "openai = OpenAI()"
   ]
  },
  {
   "cell_type": "code",
   "execution_count": 5,
   "id": "3f0d0137-52b0-47a8-81a8-11a90a010798",
   "metadata": {},
   "outputs": [],
   "source": [
    "# here is the question; type over this to ask something new\n",
    "\n",
    "question = \"\"\"\n",
    "Please explain what this code does and why:\n",
    "yield from {book.get(\"author\") for book in books if book.get(\"author\")}\n",
    "\"\"\""
   ]
  },
  {
   "cell_type": "code",
   "execution_count": 6,
   "id": "0ecfba65",
   "metadata": {},
   "outputs": [],
   "source": [
    "messages = [\n",
    "    {\n",
    "        \"role\": \"user\",\n",
    "        \"content\": question\n",
    "    }\n",
    "]"
   ]
  },
  {
   "cell_type": "code",
   "execution_count": null,
   "id": "60ce7000-a4a5-4cce-a261-e75ef45063b4",
   "metadata": {},
   "outputs": [
    {
     "name": "stdout",
     "output_type": "stream",
     "text": [
      "Let's break down the code snippet:\n",
      "\n",
      "```python\n",
      "yield from {book.get(\"author\") for book in books if book.get(\"author\")}\n",
      "```\n",
      "\n",
      "### Breakdown:\n",
      "\n",
      "1. **Set Comprehension**:\n",
      "   - The code inside the curly braces `{...}` is a set comprehension. A set comprehension is similar to a list comprehension but produces a set, which is a collection of unique elements.\n",
      "   - This set comprehension iterates over the items in `books`, which is presumably a list (or other iterable) of dictionaries.\n",
      "\n",
      "2. **Iteration**:\n",
      "   - `for book in books`: This loops through each `book` object in the `books` collection.\n",
      "\n",
      "3. **Retrieving \"author\"**:\n",
      "   - `book.get(\"author\")`: For each `book`, it attempts to retrieve the value associated with the key `\"author\"`. \n",
      "   - `.get()` method is used on dictionaries because it returns `None` (or a specified default value) if the key isn't found, avoiding a `KeyError`.\n",
      "\n",
      "4. **Filtering**:\n",
      "   - `if book.get(\"author\")`: This condition filters the books. It allows only the books that have a non-`None` (or truthy) value for the \"author\" key to be part of the set. Only those authors that exist (i.e., are present and not `None`) are included.\n",
      "\n",
      "5. **Yielding from the Set**:\n",
      "   - `yield from ...`: This is used within a generator function. The `yield from` expression is used to delegate part of the generator’s operations to another generator (or in this case, an iterable like a set).\n",
      "   - It yields each item from the set created by the set comprehension one at a time.\n",
      "\n",
      "### Summary of What It Does:\n",
      "The code generates a sequence of unique authors from a collection of books. Specifically, for each book in `books`, it checks if there is an \"author\" specified. If so, it adds that author to a set (ensuring uniqueness) and then yields each unique author one by one.\n",
      "\n",
      "### Why Use This Approach:\n",
      "1. **Uniqueness**: The use of a set ensures that each author is only yielded once, even if multiple books have the same author.\n",
      "2. **Efficiency**: By filtering out books without an \"author\", it avoids unnecessary processing of entries that do not contribute meaningful data.\n",
      "3. **Generator**: The `yield from` construct allows the function that contains this code to return results incrementally, which can be more memory-efficient for large datasets, as not all authors are stored in memory at once.\n"
     ]
    }
   ],
   "source": [
    "# Get gpt-4o-mini to answer\n",
    "response = openai.chat.completions.create(model=MODEL_GPT, messages=messages)\n",
    "result = response.choices[0].message.content\n",
    "print(result)"
   ]
  },
  {
   "cell_type": "code",
   "execution_count": 12,
   "id": "90bcacfd",
   "metadata": {},
   "outputs": [
    {
     "data": {
      "text/markdown": [
       "The line of code you've provided involves a few concepts in Python, including generator expressions and set comprehensions. Let's break it down:\n",
       "\n",
       "1. **Set Comprehension**: \n",
       "   - `{book.get(\"author\") for book in books if book.get(\"author\")}` is a set comprehension. This creates a set of unique authors from a list (or another iterable) called `books`.\n",
       "   - `book.get(\"author\")` attempts to retrieve the value associated with the key `\"author\"` from each `book`, which is expected to be a dictionary.\n",
       "   - The condition `if book.get(\"author\")` checks if the author exists (i.e., if it's not `None` or an empty string). If there's no author, that book's entry will not contribute to the set.\n",
       "\n",
       "2. **`yield from` Expression**:\n",
       "   - The `yield from` expression is used in a generator function to yield all values from another iterable. In this case, it's yielding all of the authors produced by the set comprehension.\n",
       "   - When you `yield from`, you are effectively delegating the iteration to the set (or any other iterable), which means the generation of values can be managed by Python's iterator protocol.\n",
       "\n",
       "### What the code does:\n",
       "- This line extracts unique authors from a list of books (where each book is represented as a dictionary). \n",
       "- Only non-empty author entries are included.\n",
       "- It yields each of these unique authors when called within a generator function.\n",
       "\n",
       "### Why use this code:\n",
       "- **Uniqueness**: The use of a set comprehension automatically filters out duplicate author names.\n",
       "- **Efficiency**: By using `yield from`, the code can return one author at a time, which can be more memory efficient if there are many authors and you only need to process them one at a time.\n",
       "- **Readability**: This approach uses Python's idiomatic constructs for extracting and processing data, making the intention of the code clear and concise.\n",
       "\n",
       "### Example Usage:\n",
       "Here's an example of how this code might fit into a larger context:\n",
       "\n",
       "python\n",
       "def get_unique_authors(books):\n",
       "    yield from {book.get(\"author\") for book in books if book.get(\"author\")}\n",
       "\n",
       "books = [\n",
       "    {\"title\": \"Book 1\", \"author\": \"Author A\"},\n",
       "    {\"title\": \"Book 2\"},\n",
       "    {\"title\": \"Book 3\", \"author\": \"Author B\"},\n",
       "    {\"title\": \"Book 4\", \"author\": \"Author A\"},\n",
       "]\n",
       "\n",
       "for author in get_unique_authors(books):\n",
       "    print(author)\n",
       "\n",
       "\n",
       "In this example, the output would be:\n",
       "\n",
       "Author A\n",
       "Author B\n",
       "\n",
       "\n",
       "This shows the unique authors extracted from the provided list of books."
      ],
      "text/plain": [
       "<IPython.core.display.Markdown object>"
      ]
     },
     "metadata": {},
     "output_type": "display_data"
    }
   ],
   "source": [
    "# Get gpt-4o-mini to answer, with streaming\n",
    "response = openai.chat.completions.create(model=MODEL_GPT, messages=messages, stream=True)\n",
    "result = \"\"\n",
    "display_handle = display(Markdown(\"\"), display_id=True)\n",
    "for chunk in response:\n",
    "    result += chunk.choices[0].delta.content or ''\n",
    "    result = result.replace(\"```\",\"\").replace(\"markdown\", \"\")\n",
    "    update_display(Markdown(result), display_id=display_handle.display_id)\n"
   ]
  },
  {
   "cell_type": "code",
   "execution_count": 15,
   "id": "8f7c8ea8-4082-4ad0-8751-3301adcf6538",
   "metadata": {},
   "outputs": [
    {
     "data": {
      "text/markdown": [
       "This line of code is a generator expression that yields values from an iterator. Let's break it down:\n",
       "\n",
       "- `yield from`: This keyword is used to forward values from one generator to another.\n",
       "\n",
       "- `{book.get(\"author\") for book in books if book.get(\"author\")}`: This is the iterable part of the `yield from` statement. It's a generator expression, which means it generates values on-the-fly without storing them all in memory at once.\n",
       "\n",
       "  - `(book.get(\"author\"))`: For each `book` in the `books` list, this expression gets the value associated with the key `\"author\"` (if it exists) and yields it. If `\"author\"` doesn't exist for a book, it will be skipped.\n",
       "\n",
       "So overall, if you were to put these two parts together (`yield from {book.get(\"author\") for book in books if book.get(\"author\")}`), this generator expression would iterate over the `books` list, yield each author's name that has an associated key `\"author\"`, but without generating all the values at once.\n",
       "\n",
       "In essence, it generates a sequence of authors whose names can be looked up by \"author\". This is particularly useful for reducing memory usage and avoiding potentially large lists.\n",
       "\n",
       "This would be equivalent to writing this code:\n",
       "\n",
       "python\n",
       "def generator():\n",
       "    for book in books:\n",
       "        author = book.get(\"author\")\n",
       "        if author:\n",
       "            yield author\n",
       "\n",
       "# Using the original expression:\n",
       "for author in yield from {book.get(\"author\") for book in books if book.get(\"author\")}\n",
       "\n",
       "\n",
       "Or:\n",
       "\n",
       "python\n",
       "from itertools import islice\n",
       "\n",
       "for i, author in enumerate(yield from {book.get(\"author\") for book in books if book.get(\"author\")}, 0):\n",
       "    # Process the authors one by one\n",
       "    print(f\"Author at index {i}: {author}\")\n",
       "    if i == 10:  # Stop after processing the first 10 authors\n",
       "        break\n",
       "\n",
       "\n",
       "The key here is to use `yield from` and a generator expression."
      ],
      "text/plain": [
       "<IPython.core.display.Markdown object>"
      ]
     },
     "metadata": {},
     "output_type": "display_data"
    }
   ],
   "source": [
    "# Get Llama 3.2 to answer\n",
    "response = ollama.chat(model=MODEL_LLAMA, messages=messages, stream=True)\n",
    "result = \"\"\n",
    "display_handle = display(Markdown(\"\"), display_id=True)\n",
    "for chunk in response:\n",
    "    result += chunk['message']['content'] or ''\n",
    "    result = result.replace(\"```\",\"\").replace(\"markdown\", \"\")\n",
    "    update_display(Markdown(result), display_id=display_handle.display_id)"
   ]
  },
  {
   "cell_type": "code",
   "execution_count": null,
   "id": "047893fc",
   "metadata": {},
   "outputs": [],
   "source": []
  }
 ],
 "metadata": {
  "kernelspec": {
   "display_name": "llms",
   "language": "python",
   "name": "python3"
  },
  "language_info": {
   "codemirror_mode": {
    "name": "ipython",
    "version": 3
   },
   "file_extension": ".py",
   "mimetype": "text/x-python",
   "name": "python",
   "nbconvert_exporter": "python",
   "pygments_lexer": "ipython3",
   "version": "3.11.13"
  }
 },
 "nbformat": 4,
 "nbformat_minor": 5
}
