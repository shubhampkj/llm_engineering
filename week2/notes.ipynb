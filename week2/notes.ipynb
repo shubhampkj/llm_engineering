{
 "cells": [
  {
   "cell_type": "markdown",
   "id": "25b28cf6",
   "metadata": {},
   "source": [
    "# General Notes"
   ]
  },
  {
   "cell_type": "markdown",
   "id": "e83e5fc8",
   "metadata": {},
   "source": [
    "Temperature is used to control randomness in the responses. `0` means maximum randomness, `1` means maximum determinisim."
   ]
  },
  {
   "cell_type": "markdown",
   "id": "d59b1b14",
   "metadata": {},
   "source": [
    "## Multi Shop Prompting\n",
    "\n",
    "Normally we have seen a few to do multi-shot prompting in a conversation.\n",
    "\n",
    "1. We can add the example in the system prompt for general example\n",
    "2. We can add example in the user prompt, user doing multi shot prompting\n",
    "3. When we start the conversation, we can have a psuedo conversation already added in the context which can demostrate the example. The actual user will not be aware of that conversation. The illustartive conversation will be added in the chat history"
   ]
  },
  {
   "cell_type": "markdown",
   "id": "f021af58",
   "metadata": {},
   "source": [
    "# Tools\n",
    "\n",
    "AI Tools allow Frontier model to connect with external functions. It might provide ability to carry out action within in the application.\n",
    "\n",
    "## How it works?\n",
    "\n",
    "1. In a request to the LLM, specify the available Tools\n",
    "2. The reply is either text, or request to run a Tool\n",
    "3. We run the tool and call LLM with the response\n",
    "\n",
    "## Common use case for Tools\n",
    "\n",
    "1. Fetch data or add knowledge or context\n",
    "2. Take action, like booking a meeting\n",
    "3. Perform calculations\n",
    "4. Modify the UI"
   ]
  },
  {
   "cell_type": "markdown",
   "id": "cdf20afd",
   "metadata": {},
   "source": [
    "# Agents\n",
    "\n",
    "## Common characteristics:\n",
    "\n",
    "1. Autonomous\n",
    "2. Goal-oriented\n",
    "3. Task-specific\n",
    "\n",
    "## Agent Frameowrk\n",
    "\n",
    "Agents are designed to work as part of an Agent Framework to solve complex problem with limited human intervention\n",
    "\n",
    "- Memory / Persistence\n",
    "- Decision-making / Orchestration\n",
    "- Planning capabilities\n",
    "- Use of tools, potentially connecting to databases or the internet"
   ]
  },
  {
   "cell_type": "markdown",
   "id": "788f0f4a",
   "metadata": {},
   "source": []
  }
 ],
 "metadata": {
  "language_info": {
   "name": "python"
  }
 },
 "nbformat": 4,
 "nbformat_minor": 5
}
